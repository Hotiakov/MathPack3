{
 "cells": [
  {
   "cell_type": "markdown",
   "id": "a9d0db99",
   "metadata": {},
   "source": [
    "# Лабораторная работа №3 по дисциплине Математические пакеты\n",
    "## Работу выполнил Хотяков Евгений, гр. 9383, вариант 18"
   ]
  },
  {
   "cell_type": "markdown",
   "id": "1693667c",
   "metadata": {},
   "source": [
    "### Цель работы – практическое применение библиотеки символьных вычислений Python (SymPy) для решения задач дискретной математики и математической логики."
   ]
  },
  {
   "cell_type": "markdown",
   "id": "bdef441b",
   "metadata": {},
   "source": [
    "#### Задание1: Решить свой вариант диофантова уравнения.\n",
    "Вариант 59: 1022x+ 1029y = 14"
   ]
  },
  {
   "cell_type": "code",
   "execution_count": 9,
   "id": "4aac5d09",
   "metadata": {},
   "outputs": [],
   "source": [
    "import sympy\n",
    "from sympy import sympify\n",
    "from sympy.crypto.crypto import rsa_private_key, decipher_rsa"
   ]
  },
  {
   "cell_type": "code",
   "execution_count": 10,
   "id": "7d65b682",
   "metadata": {},
   "outputs": [
    {
     "data": {
      "text/plain": [
       "{(147*t_0 - 2, 2 - 146*t_0)}"
      ]
     },
     "execution_count": 10,
     "metadata": {},
     "output_type": "execute_result"
    }
   ],
   "source": [
    "equation = \"1022*x+ 1029*y - 14\"\n",
    "sympy.solvers.diophantine(sympify(equation))"
   ]
  },
  {
   "cell_type": "markdown",
   "id": "03df72ac",
   "metadata": {},
   "source": [
    "#### Задание2: Имея открытую часть ключа RSA найти соответствующую закрытую часть и расшифровать кодированное слово.\n",
    "Вариант 59: Русское слово из четырех букв закодировано при помощи алгоритма RSA открытым ключом (e = 13,m = 34).\n",
    "Шифрованное сообщение имеет вид (19; 28; 26; 23). Подберите закрытую часть ключа и прочитайте исходное слово.\n",
    "Буквам русского алфавита соответсвуют числа в диапазоне от 2 до 32 (исключены буквы “ё” и “ъ”)."
   ]
  },
  {
   "cell_type": "code",
   "execution_count": 16,
   "id": "c6ee5f19",
   "metadata": {},
   "outputs": [
    {
     "name": "stdout",
     "output_type": "stream",
     "text": [
      "15\n",
      "10\n",
      "8\n",
      "7\n",
      "Зашифрованное слово:  ниже\n"
     ]
    }
   ],
   "source": [
    "e = 13\n",
    "m = 34\n",
    "p = 2\n",
    "q = 17\n",
    "code = [19, 28, 26, 23]\n",
    "letters = ['а', 'б', 'в', 'г', 'д', 'е', 'ж', 'з', 'и', 'й', 'к', 'л', 'м', 'н', 'о', \n",
    "           'п', 'р', 'с', 'т','у', 'ф', 'х', 'ц', 'ч', 'ш', 'щ', 'ы', 'ь', 'э', 'ю', 'я']\n",
    "private = rsa_private_key(p, q, e)\n",
    "\n",
    "answer = \"\"\n",
    "for i in code:\n",
    "    print(decipher_rsa(i, private))\n",
    "    answer += letters[decipher_rsa(i, private) - 2]\n",
    "print(\"Зашифрованное слово: \", answer)"
   ]
  },
  {
   "cell_type": "markdown",
   "id": "b3ba9fc2",
   "metadata": {},
   "source": [
    "#### Задание 3: Записать в формате ДНФ и КНФ булеву функцию, заданную своим аналитическим выражением.\n",
    "Вариант 79: f(x, y, z) = ((x xor y)(y ∨ z))((z xor y) ∨ x)"
   ]
  },
  {
   "cell_type": "code",
   "execution_count": 21,
   "id": "9d179c7c",
   "metadata": {},
   "outputs": [
    {
     "name": "stdout",
     "output_type": "stream",
     "text": [
      "DNF:  (x & z & ~y) | (y & ~x & ~z)\n",
      "CNF:  (x | y) & (z | ~x) & (~y | ~z)\n"
     ]
    }
   ],
   "source": [
    "from sympy.logic.boolalg import to_cnf\n",
    "from sympy.logic.boolalg import to_dnf\n",
    "from sympy.abc import x, y, z\n",
    "expression = ((x ^ y)&(y | z))&((z ^ y) | x)\n",
    "print(\"DNF: \", to_dnf(expression, simplify=True))\n",
    "print(\"CNF: \", to_cnf(expression, simplify=True))"
   ]
  },
  {
   "cell_type": "markdown",
   "id": "bd392cbd",
   "metadata": {},
   "source": [
    "### Вывод: В ходе работы была изучена и применена библиотека символьных вычислений Python (SymPy) для решения задач дискретной математики и математической логики"
   ]
  },
  {
   "cell_type": "code",
   "execution_count": null,
   "id": "af53dc60",
   "metadata": {},
   "outputs": [],
   "source": []
  }
 ],
 "metadata": {
  "kernelspec": {
   "display_name": "Python 3 (ipykernel)",
   "language": "python",
   "name": "python3"
  },
  "language_info": {
   "codemirror_mode": {
    "name": "ipython",
    "version": 3
   },
   "file_extension": ".py",
   "mimetype": "text/x-python",
   "name": "python",
   "nbconvert_exporter": "python",
   "pygments_lexer": "ipython3",
   "version": "3.8.8"
  }
 },
 "nbformat": 4,
 "nbformat_minor": 5
}
